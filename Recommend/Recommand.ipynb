{
 "cells": [
  {
   "cell_type": "code",
   "execution_count": 1,
   "metadata": {},
   "outputs": [],
   "source": [
    "import numpy, pandas"
   ]
  },
  {
   "cell_type": "code",
   "execution_count": 2,
   "metadata": {},
   "outputs": [],
   "source": [
    "train = open('train_data_for_test.dat', encoding='utf-8', mode='r')\n",
    "train = [l.split(' ') for l in train.readlines()]\n",
    "train_data = [{'u_id': t[0], 'i_id': t[1], 'score': t[2], 'word': t[3], 'each': t[4:-1]}\n",
    "              for t in train]\n",
    "\n",
    "user_list = list(set([t['u_id'] for t in train_data]))\n",
    "item_list = list(set([t['i_id'] for t in train_data]))"
   ]
  },
  {
   "cell_type": "code",
   "execution_count": 3,
   "metadata": {},
   "outputs": [],
   "source": [
    "user_item_df = pandas.DataFrame(numpy.zeros([len(user_list), len(item_list)]), index=user_list, columns=item_list)"
   ]
  },
  {
   "cell_type": "code",
   "execution_count": 4,
   "metadata": {
    "collapsed": true
   },
   "outputs": [],
   "source": [
    "for i in train_data:\n",
    "    user_item_df.at[i['u_id'], i['i_id']] = i['score']"
   ]
  },
  {
   "cell_type": "code",
   "execution_count": 5,
   "metadata": {},
   "outputs": [],
   "source": [
    "user_item_matrix = user_item_df.as_matrix()"
   ]
  },
  {
   "cell_type": "code",
   "execution_count": 6,
   "metadata": {},
   "outputs": [
    {
     "data": {
      "text/plain": [
       "array([[0., 0., 0., ..., 0., 0., 0.],\n       [0., 0., 0., ..., 0., 0., 0.],\n       [0., 0., 0., ..., 0., 0., 0.],\n       ...,\n       [0., 0., 0., ..., 0., 0., 0.],\n       [0., 0., 0., ..., 0., 0., 0.],\n       [0., 0., 0., ..., 0., 0., 0.]])"
      ]
     },
     "execution_count": 6,
     "metadata": {},
     "output_type": "execute_result"
    }
   ],
   "source": [
    "\n",
    "user_item_matrix\n"
   ]
  },
  {
   "cell_type": "code",
   "execution_count": 13,
   "metadata": {},
   "outputs": [],
   "source": [
    "U, S, V_t = numpy.linalg.svd(user_item_matrix, full_matrices=False)"
   ]
  },
  {
   "cell_type": "code",
   "execution_count": 12,
   "metadata": {
    "collapsed": false
   },
   "outputs": [
    {
     "data": {
      "text/plain": [
       "(array([[-0.44721867, -0.53728743, -0.00643789, -0.50369332],\n        [-0.35861531,  0.24605053,  0.86223083, -0.14584826],\n        [-0.29246336, -0.40329582, -0.22754042, -0.10376096],\n        [-0.20779151,  0.67004393, -0.3950621 , -0.58878098],\n        [-0.50993331,  0.05969518, -0.10968053,  0.28687443],\n        [-0.53164501,  0.18870999, -0.19141061,  0.53413013]]),\n array([17.71392084,  6.39167145,  3.09796097,  1.32897797]),\n array([[-0.57098887, -0.4274751 , -0.38459931, -0.58593526],\n        [-0.22279713, -0.51723555,  0.82462029,  0.05319973],\n        [ 0.67492385, -0.69294472, -0.2531966 ,  0.01403201],\n        [ 0.41086611,  0.26374238,  0.32859738, -0.80848795]]))"
      ]
     },
     "execution_count": 12,
     "metadata": {},
     "output_type": "execute_result"
    }
   ],
   "source": [
    "A = [[5,5,0,5],[5,0,3,4],[3,4,0,3],[0,0,5,3],[5,4,4,5],[5,4,5,5]]\n",
    "numpy.linalg.svd(A, full_matrices=False)"
   ]
  },
  {
   "cell_type": "code",
   "execution_count": null,
   "metadata": {},
   "outputs": [],
   "source": []
  }
 ],
 "metadata": {
  "kernelspec": {
   "display_name": "Python 3",
   "language": "python",
   "name": "python3"
  },
  "language_info": {
   "codemirror_mode": {
    "name": "ipython",
    "version": 3
   },
   "file_extension": ".py",
   "mimetype": "text/x-python",
   "name": "python",
   "nbconvert_exporter": "python",
   "pygments_lexer": "ipython3",
   "version": "3.6.4"
  }
 },
 "nbformat": 4,
 "nbformat_minor": 2
}
